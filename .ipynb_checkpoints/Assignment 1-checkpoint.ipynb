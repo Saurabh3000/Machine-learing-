{
 "cells": [
  {
   "cell_type": "code",
   "execution_count": null,
   "metadata": {},
   "outputs": [],
   "source": [
    "name=input(\"Enter your Name \")\n",
    "'Hello'+' '+name+' '+ \"where you want to travel\"\n",
    "age=int(input(\"Enter your age \"))\n",
    "if(age > 18):\n",
    "    print(\"Adulat\")\n",
    "else:\n",
    "    print(\"Not Adult\")\n",
    "place=input(\"Enter your Destination \")\n",
    "place +' '+ \"is good choice to travel\"\n",
    "mark=int(input(\"Enter your marks \"))\n",
    "if(mark > 40):\n",
    "    print(\"Pass\")\n",
    "else:\n",
    "    print(\"Fail\")"
   ]
  },
  {
   "cell_type": "code",
   "execution_count": null,
   "metadata": {},
   "outputs": [],
   "source": []
  }
 ],
 "metadata": {
  "kernelspec": {
   "display_name": "Python 3",
   "language": "python",
   "name": "python3"
  },
  "language_info": {
   "codemirror_mode": {
    "name": "ipython",
    "version": 3
   },
   "file_extension": ".py",
   "mimetype": "text/x-python",
   "name": "python",
   "nbconvert_exporter": "python",
   "pygments_lexer": "ipython3",
   "version": "3.8.3"
  }
 },
 "nbformat": 4,
 "nbformat_minor": 4
}
