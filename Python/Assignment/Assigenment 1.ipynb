{
 "cells": [
  {
   "cell_type": "code",
   "execution_count": 6,
   "metadata": {
    "collapsed": true
   },
   "outputs": [
    {
     "name": "stdout",
     "output_type": "stream",
     "text": [
      "Enter your Name Saurabh\n",
      "Hello Saurabh where you want to travel\n",
      "Enter your age 20\n",
      "Saurabh age is 20 \n",
      "Adulat\n",
      "Enter your Destination Pune\n",
      " Pune is good choice to travel\n",
      "Enter your marks 56\n",
      "Pass\n",
      "No\n",
      "Enter a number a 14\n",
      "Enter a number b 58\n",
      "58\n"
     ]
    }
   ],
   "source": [
    "name=input(\"Enter your Name \")\n",
    "print(f'Hello {name} where you want to travel')\n",
    "age=int(input(\"Enter your age \"))\n",
    "print(f'{name} age is {age} ')\n",
    "if(age > 18):\n",
    "    print(\"Adulat\")\n",
    "else:\n",
    "    print(\"Not Adult\")\n",
    "place=input(\"Enter your Destination \")\n",
    "print(f' {place} is good choice to travel')\n",
    "mark=int(input(\"Enter your marks \"))\n",
    "if(mark > 40):\n",
    "    print(\"Pass\")\n",
    "else:\n",
    "    print(\"fail\")\n",
    "if(mark%5==0):\n",
    "    print(\"Yes\")\n",
    "else:\n",
    "    print(\"No\")\n",
    "a=int(input(\"Enter a number a \"))\n",
    "b=int(input(\"Enter a number b \"))\n",
    "a=b\n",
    "print(a)"
   ]
  },
  {
   "cell_type": "code",
   "execution_count": 2,
   "metadata": {},
   "outputs": [
    {
     "name": "stdout",
     "output_type": "stream",
     "text": [
      "30\n",
      "20\n"
     ]
    }
   ],
   "source": [
    "a=20\n",
    "b=30\n",
    "c=a\n",
    "a=b\n",
    "b=c\n",
    "print(a)\n",
    "print(b)"
   ]
  },
  {
   "cell_type": "code",
   "execution_count": 5,
   "metadata": {},
   "outputs": [],
   "source": [
    "a=20\n",
    "b=30\n",
    "a=b\n",
    "b=10"
   ]
  },
  {
   "cell_type": "code",
   "execution_count": 7,
   "metadata": {},
   "outputs": [
    {
     "data": {
      "text/plain": [
       "30"
      ]
     },
     "execution_count": 7,
     "metadata": {},
     "output_type": "execute_result"
    }
   ],
   "source": [
    "a"
   ]
  },
  {
   "cell_type": "code",
   "execution_count": 8,
   "metadata": {},
   "outputs": [
    {
     "data": {
      "text/plain": [
       "10"
      ]
     },
     "execution_count": 8,
     "metadata": {},
     "output_type": "execute_result"
    }
   ],
   "source": [
    "b"
   ]
  },
  {
   "cell_type": "code",
   "execution_count": null,
   "metadata": {},
   "outputs": [],
   "source": []
  }
 ],
 "metadata": {
  "kernelspec": {
   "display_name": "Python 3",
   "language": "python",
   "name": "python3"
  },
  "language_info": {
   "codemirror_mode": {
    "name": "ipython",
    "version": 3
   },
   "file_extension": ".py",
   "mimetype": "text/x-python",
   "name": "python",
   "nbconvert_exporter": "python",
   "pygments_lexer": "ipython3",
   "version": "3.8.3"
  }
 },
 "nbformat": 4,
 "nbformat_minor": 4
}
